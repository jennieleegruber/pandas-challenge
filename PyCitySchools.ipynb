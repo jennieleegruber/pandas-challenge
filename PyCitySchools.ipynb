{
 "cells": [
  {
   "cell_type": "code",
   "execution_count": null,
   "metadata": {},
   "outputs": [],
   "source": [
    "import pandas as pd\n",
    "import numpy as np\n",
    "\n",
    "#write the path to your original datasets \n",
    "schooldata_path = \"Resources/schools_complete.csv\"\n",
    "studentdata_path = \"Resources/tudents_complete.csv\"\n",
    "\n",
    "# Read School and Student Data File and store into Pandas DataFrames\n",
    "schooldata_reader = pd.read_csv(schooldata_path)\n",
    "studentdata_reader = pd.read_csv(studentdata_path)\n",
    "\n",
    "# Combine the data into a single dataset. Use a left merge because you want to include all student data and select school data that corresponds to a shared column key (need to list schooldata first so it's on the left and you get all of it)\n",
    "schoolandstudent_data = pd.merge(studentdata_reader, schooldata_reader, how=\"left\", on=[\"school_name\", \"school_name\"])"
   ]
  },
  {
   "cell_type": "code",
   "execution_count": null,
   "metadata": {},
   "outputs": [],
   "source": [
    "#Create a parent dataframe for your combined csv datasets \n",
    "PyCitySchools_df = pd.DataFrame(schoolandstudent_data)\n",
    "PyCitySchools_df.drop(columns=['gender','grade'])\n",
    "PyCitySchools_df"
   ]
  },
  {
   "cell_type": "code",
   "execution_count": null,
   "metadata": {},
   "outputs": [],
   "source": [
    "#create a subtable from the parent DataFrame to summarize school districts\n",
    "School_District_df = PyCitySchools_df.drop(columns=['gender','grade'])\n",
    "School_District_df.dropna()\n",
    "#before this the subset key was set to Student ID, student_name ensure that you don't get duplicate student counts \n",
    "School_District_df = School_District_df.drop_duplicates(subset='student_name', keep=\"first\")"
   ]
  },
  {
   "cell_type": "code",
   "execution_count": null,
   "metadata": {},
   "outputs": [],
   "source": [
    "#calculate the number of unique values within the school name column to calculate total schools  \n",
    "school_total = School_District_df['school_name'].nunique()\n",
    "school_total"
   ]
  },
  {
   "cell_type": "code",
   "execution_count": null,
   "metadata": {},
   "outputs": [],
   "source": [
    "#calculate the total number of students\n",
    "school_students = School_District_df['student_name'].nunique()\n",
    "school_students"
   ]
  },
  {
   "cell_type": "code",
   "execution_count": null,
   "metadata": {},
   "outputs": [],
   "source": [
    "#calculate the total budget by summing the budget for the unique values of each school\n",
    "total_budget = School_District_df.groupby('school_name')['budget'].mean()\n",
    "total_budget = total_budget.sum()\n",
    "total_budget = '${:,.2f}'.format(total_budget)\n",
    "total_budget"
   ]
  },
  {
   "cell_type": "code",
   "execution_count": null,
   "metadata": {},
   "outputs": [],
   "source": [
    "#calculate the average math score by looking at student names\n",
    "math_avg = School_District_df.groupby('student_name')['math_score'].mean()\n",
    "math_avg = round(math_avg.mean(),6)\n",
    "math_avg"
   ]
  },
  {
   "cell_type": "code",
   "execution_count": null,
   "metadata": {},
   "outputs": [],
   "source": [
    "#calculate the average reading score by looking at student names\n",
    "reading_avg = School_District_df.groupby('student_name')['reading_score'].mean()\n",
    "reading_avg.mean()\n",
    "reading_avg = round(reading_avg.mean(),6)\n",
    "reading_avg"
   ]
  },
  {
   "cell_type": "code",
   "execution_count": null,
   "metadata": {},
   "outputs": [],
   "source": [
    "#calculate the average reading score by looking at student names\n",
    "math_avg = School_District_df.groupby('student_name')['math_score'].mean()\n",
    "math_avg = round((math_avg.mean()),6)\n",
    "math_avg"
   ]
  },
  {
   "cell_type": "code",
   "execution_count": null,
   "metadata": {},
   "outputs": [],
   "source": [
    "#create an index array that counts all the students whose math_score is 70 or higher \n",
    "passing_math = School_District_df[School_District_df[\"math_score\"]>=70].count()['student_name']\n",
    "#caclulate the ratio of students passing math to the total students\n",
    "p_passing_math = round(((passing_math/school_students)*100),6)\n",
    "p_passing_math\n",
    "#PREVIOUS ATTEMPTS\n",
    "#passing_math = {'% Passing Math': []}\n",
    "#passing_math_total = School_District_df['% Passing Math'] == np.where(School_District_df['reading_score']>70, 'Passing', 'Failing')\n",
    "#passing_math = {'% Passing Math': [passing_total]}\n",
    "#percent_passing_math = (passing_math / total_students)\n",
    "#use list comprehension to cacluate how many times a math score is passing within a dictionary\n",
    "#[math_score for math_score in passing_total if math_score['% Passing Math'] == 'Passing']\n",
    "#passing_math\n",
    "#find a way to count the number of 'Passing' values in this array\n"
   ]
  },
  {
   "cell_type": "code",
   "execution_count": null,
   "metadata": {},
   "outputs": [],
   "source": [
    "passing_reading = School_District_df[School_District_df[\"reading_score\"]>=70].count()['student_name']\n",
    "p_passing_reading = passing_reading/school_students\n",
    "p_passing_reading = round((p_passing_reading*100),6)\n",
    "p_passing_reading\n",
    "#PREVIOUS ATTEMPTS \n",
    "#passing_reading = {'% Passing Reading': []\n",
    "#passing_reading_total = School_District_df['% Passing Reading'] = np.where(School_District_df['reading_score']>70, 'Passing', 'Failing')\n",
    "#passing_read = {'% Passing reading': [passing_total]}\n",
    "#use list comprehension to cacluate how many times a math score is passing within a dictionary\n",
    "#passing_reading_count = len(School_District_df[(School_District_df['% Passing Reading'] == 'Passing')])\n",
    "#check that total count of students passing math is less than total students\n",
    "#passing_reading_count\n",
    "#Calculate and format the percent of students passing math out of total student in the dataset\n",
    "#percent_passing_reading = round(((passing_reading_count / school_students)*100),6)\n",
    "#percent_passing_reading"
   ]
  },
  {
   "cell_type": "code",
   "execution_count": null,
   "metadata": {},
   "outputs": [],
   "source": [
    "#create variable that generates a table and iterates over to count when 'student names' are associated with math and reading scores =70+\n",
    "passing_both = School_District_df[(School_District_df.math_score>=70)&(School_District_df.reading_score>=70)].count()['student_name']\n",
    "p_passing_both = round(((passing_both/school_students)*100),6)\n",
    "p_passing_both\n",
    "#PREVIOUS ATTEMPTS\n",
    "#passing_both = np.where( (School_District_df['math_score'] >= 70) & (School_District_df['reading_score'] >= 70 ) )\n",
    "#passing_both = {'% Overall Passing': []}\n",
    "#passing_both_total = School_District_df['% Overall Passing'] = np.where( ( (School_District_df['math_score'] >= 70) & (School_District_df['reading_score'] >= 70 ) ) , 'Passing', 'Failing')\n",
    "#passing_both = {'% Passing reading': [passing_total]}\n",
    "#Calculate the length of the above dataset when only including rows where '% Passing Math' is equal to 'Passing'\n",
    "# reference code: len(df[(df['A']>0) & (df['B']>0) & (df['C']>0)])\n",
    "#Calculate the length of the above dataset when only including rows where '% Passing Reading' and '% Passing Math' is equal to 'Passing'\n",
    "# reference code: len(df[(df['A']>0) & (df['B']>0) & (df['C']>0)])\n",
    "#passing_both_count = len(School_District_df[(School_District_df['% Passing Reading'] == 'Passing') & (School_District_df['% Passing Math'] == 'Passing')])\n",
    "#check that total count of students passing math and reading is less than total students\n",
    "#passing_both_count\n",
    "#Calculate and format the percent of students passing both math and reading out of total student in the dataset\n",
    "#percent_passing_both = round(((passing_both_count / school_students)*100),6)\n",
    "#percent_passing_both"
   ]
  },
  {
   "cell_type": "code",
   "execution_count": null,
   "metadata": {},
   "outputs": [],
   "source": [
    "#TABLE 01 - DISTRICT SUMMARY\n",
    "#district_summary_list = (school_total, school_students, '${:,.2f}'.format(total_budget), round(math_avg,6),round(reading_avg,6), percent_passing_math, percent_passing_reading, percent_passing_both)\n",
    "#col_list = ('Total Schools', 'Total Students','Total Budget','Average Math Score','Average Reading Score','% Passing Math','% Passing Reading','% Overall Passing'\n",
    "\n",
    "#school_district_summary_data = {'Total Schools':[school_total],'Total Students':[school_students],'Total Budget':['${:,.2f}'.format(total_budget)'],'Average Math Score':[round(math_avg,6)],'Average Reading Score':[round(reading_avg,6)],'% Passing Math':[percent_passing_math],'% Passing Reading':[percent_passing_reading],'% Overall Passing':[percent_passing_both]}\n",
    "summary = {'Total Schools':[school_total],'Total Students':[school_students],'Total Budget':[total_budget],'Average Math Score':[math_avg], 'Average Reading Score':[reading_avg],'% Passing Math':[p_passing_math],'% Passing Reading':[p_passing_reading],'% Overall Passing':[p_passing_both]}\n",
    "\n",
    "#make all values and headers flush left\n",
    "School_District_Summary_Table = pd.DataFrame(summary)\n",
    "School_District_Summary_Table.align\n",
    "School_District_Summary_Table\n"
   ]
  },
  {
   "cell_type": "code",
   "execution_count": null,
   "metadata": {},
   "outputs": [],
   "source": [
    "#Beginning of code for TABLE 02 - SCHOOL SUMMARY\n",
    "#Action plan\n",
    "# create a new dataset from the existing one that copies specificed columns\n",
    "\n",
    "PyCitySchools_df.head()"
   ]
  },
  {
   "cell_type": "code",
   "execution_count": null,
   "metadata": {},
   "outputs": [],
   "source": [
    "School_District_Summary_Table"
   ]
  },
  {
   "cell_type": "code",
   "execution_count": null,
   "metadata": {},
   "outputs": [],
   "source": [
    "#SUMMARY TABLE 02 - SCHOOL SUMMARY "
   ]
  },
  {
   "cell_type": "code",
   "execution_count": null,
   "metadata": {},
   "outputs": [],
   "source": [
    "#Step 1, create a new dataframe copying specific columns from PyCitySchools_df \n",
    "ss_df = PyCitySchools_df.drop_duplicates(subset='student_name',keep='first')\n",
    "#Step 1a, clean ss_df\n",
    "ss_df = PyCitySchools_df[['school_name','student_name','type','size','budget']].copy()\n",
    "ss_df = ss_df.dropna()\n",
    "#Step 1b, rename columns to align with desired final 'School Summary' df col names\n",
    "ss_df = ss_df.rename(columns={'student_name':'Student Name',\n",
    "                                'type':'School Type',\n",
    "                                 'size':'Total Students',\n",
    "                                 'budget':'Total School Budget'})"
   ]
  },
  {
   "cell_type": "code",
   "execution_count": null,
   "metadata": {},
   "outputs": [],
   "source": [
    "#Step 2, create 'perstuent buget column' from existing column values\n",
    "#Step 2a, create variables that store a list of school bugets for each student name\n",
    "ss_budgets = ss_df['Total School Budget']\n",
    "ss_size = ss_df['Total Students']\n",
    "#Step 2b, calculate per stuent buget and set that list of values to a new column in ss_df\n",
    "ss_df['Per Student Budget'] = ss_budgets/ss_size"
   ]
  },
  {
   "cell_type": "code",
   "execution_count": null,
   "metadata": {},
   "outputs": [],
   "source": [
    "#Step 3, create a new dataframe from PyCitySchools_df to look at grades\n",
    "#Step 3a, copy math and reading scores from PyCitySchools_df\n",
    "ss_df['Math Scores'] = PyCitySchools_df['math_score']\n",
    "ss_df['Reading Scores'] = PyCitySchools_df['reading_score']\n",
    "#Step 3b, copy specific columns from PyCity Schools \n",
    "#ss_grades_df = PyCitySchools_df[['school_name','student_name','math_score','reading_score']]\n",
    "#Step 3d, create a new columns that determines the count of students passing math \n",
    "passing_math  = np.where(PyCitySchools_df['math_score']>= 70, 'Passing' , 'Failing')\n",
    "passing_reading = np.where(PyCitySchools_df['reading_score']>=70,'Passing','Failing')\n",
    "#np.where(df['Set']=='Z', 'green', 'red')\n",
    "ss_df['Passing Math'] = passing_math\n",
    "ss_df['Passing Reading'] = passing_reading\n",
    "ss_df\n",
    "#ss_grades_df['Passing Overall'] = passing_both\n",
    "#ss_grades_Df['Passing/Failing Both'] = PyCitySchool_df.loc[(PyCitySchools_df['math_score']>=70) & (PyCitySchools_df['reading_scores']>=70)].count()['student_name']\n",
    "#passing_math_district count = PyCitySchools_df[PyCitySchools_df['math_score']>=70].count()['math_score']"
   ]
  },
  {
   "cell_type": "code",
   "execution_count": null,
   "metadata": {},
   "outputs": [],
   "source": [
    "#Step 4,create a new school summary df using groupby\n",
    "#ss_fv_df = ss_df.drop_duplicates(subset='school_name', keep='first')\n",
    "#ss_fv_df.set_index('school_name')\n",
    "#p_passing_math = ss_df.iloc['school_name'].mean()['Math Scores']\n",
    "#ss_fv_df['% Passing Math'] = p_passing_math\n",
    "#ss_fv_df\n",
    "\n",
    "\n",
    "\n",
    "#FAILED ATTEMPTS\n",
    "#ss2_df_passing_math_per_school = ss_df[ss_df['Passing Math']=='Passing'].count()\n",
    "#df.groupby(['key1']).apply(df[df['key2'] == 'one'])\n",
    "#df[df['isTrade'] == 1].groupby('dateTime')  \n",
    "#ss2_df_school_size = ss_df.groupby('school_name')['Total Students'].mean()\n",
    "#ss2_df_school_size\n",
    "#ss2_df_p_passing_math_per_school = ss2_df_passing_math_per_school/ss2_df_school_size \n",
    "#ss2_df_p_passing_math_per_school\n",
    "#ss2_df_passing_math_per_school "
   ]
  },
  {
   "cell_type": "code",
   "execution_count": null,
   "metadata": {},
   "outputs": [],
   "source": [
    "#TABLE 02 - SCHOOL SUMMARY\n",
    "#district_summary_list = (school_total, school_students, '${:,.2f}'.format(total_budget), round(math_avg,6),round(reading_avg,6), percent_passing_math, percent_passing_reading, percent_passing_both)\n",
    "#col_list = ('Total Schools', 'Total Students','Total Budget','Average Math Score','Average Reading Score','% Passing Math','% Passing Reading','% Overall Passing'\n",
    "\n",
    "#school_district_summary_data = {'Total Schools':[school_total],'Total Students':[school_students],'Total Budget':['${:,.2f}'.format(total_budget)'],'Average Math Score':[round(math_avg,6)],'Average Reading Score':[round(reading_avg,6)],'% Passing Math':[percent_passing_math],'% Passing Reading':[percent_passing_reading],'% Overall Passing':[percent_passing_both]}\n"
   ]
  },
  {
   "cell_type": "code",
   "execution_count": null,
   "metadata": {},
   "outputs": [],
   "source": [
    "#now that we have a school name list, we want to build a row for the summary dataframe \n",
    "\n",
    "for school_name in school_names: \n",
    "    #print(school_name)    #type, total student, total school budget, per student budget, average math schore, average reading score, % passing math, % passing reading, % passing both \n",
    "    #number_passing_overall = \n",
    "    df['type'] = PyCitySchools_df[PyCitySchools_df['school_name']==school_name]['type']\n",
    "    df['student total'] = PyCitySchools_df[PyCitySchools_df['school_name']==school_name]['student_name'].count()\n",
    "    df['budget'] = PyCitySchools_df[PyCitySchools_df['school_name']==school_name]['budget']\n",
    "    df['budget by student'] =  school_budget/student_count\n",
    "    #school_avg_math = \n",
    "    #chool_reading_avg = \n",
    "    student_counts.append(student_count)\n",
    "    school_type.append(school_type)\n",
    "    school_budget_by_student.append(school_budget_by_student)\n",
    "    #school_avg_math.append(school_avg_math)\n",
    "    #school_reading_avg.append(school_reading_avg)\n",
    "#school_district_summary_data = {'Total Schools':[school_total],'Total Students':[school_students],'Total Budget':['${:,.2f}'.format(total_budget)'],'Average Math Score':[round(math_avg,6)],'Average Reading Score':[round(reading_avg,6)],'% Passing Math':[percent_passing_math],'% Passing Reading':[percent_passing_reading],'% Overall Passing':[percent_passing_both]}\n",
    "\n",
    "df = pd.DataFrame()\n"
   ]
  },
  {
   "cell_type": "code",
   "execution_count": null,
   "metadata": {},
   "outputs": [],
   "source": [
    "#create a variable that stores all school types \n",
    "school_type = PyCitySchools_2['type']\n",
    "school_type"
   ]
  },
  {
   "cell_type": "code",
   "execution_count": null,
   "metadata": {},
   "outputs": [],
   "source": [
    "#create a variable that stores total students by school\n",
    "total_students_by_school = PyCitySchools_df.groupby('school_name')['student_name'].count()\n",
    "total_students_by_school"
   ]
  },
  {
   "cell_type": "code",
   "execution_count": null,
   "metadata": {},
   "outputs": [],
   "source": [
    "#creare a variable that stores each schools budget \n",
    "budget = PyCitySchools_df.groupby('school_name')['budget'].mean()\n",
    "budget"
   ]
  },
  {
   "cell_type": "code",
   "execution_count": null,
   "metadata": {},
   "outputs": [],
   "source": [
    "#creare a variable that stores the value of each schools total budget divided by the school size\n",
    "per_student_budget = (budget/total_students_by_school)\n",
    "per_student_budget"
   ]
  },
  {
   "cell_type": "code",
   "execution_count": null,
   "metadata": {},
   "outputs": [],
   "source": [
    "#store a variable for average math score per school\n",
    "school_avg_math = PyCitySchools_df.groupby('school_name')['math_score'].mean()\n",
    "school_avg_math\n",
    "\n",
    "#store variable for average reading score per school\n",
    "school_reading_avg = PyCitySchools_df.groupby('school_name')['reading_score'].mean()"
   ]
  },
  {
   "cell_type": "code",
   "execution_count": null,
   "metadata": {},
   "outputs": [],
   "source": [
    "#caculate budget by student \n",
    "Schools_df['Per Student Budget'] = Schools_df['budget'] /  Schools_df['size']\n",
    "#caculate average math score by school \n",
    "Schools_df['Average Math Score'] = PyCitySchools_df.groupby('school_name')['math_score'].mean()\n",
    "#calculate average reading score by school \n",
    "Schools_df['Average Reading Score'] = PyCitySchools_df.groupby('school_name')['reading_score'].mean()\n",
    "#caclulate % passing math \n",
    "#Schools_df['% Passing Math'] = School_District_df.groupby('school_name')['% Passing Math'].mean()"
   ]
  },
  {
   "cell_type": "code",
   "execution_count": null,
   "metadata": {},
   "outputs": [],
   "source": [
    "#caculate average math score by school \n",
    "#Schools_df['Average Math Score'] = PyCitySchools_df.groupby('school_name')['math_score'].mean()\n",
    "#calculate average reading score by school \n",
    "#Schools_df['Average Reading Score'] = PyCitySchools_df.groupby('school_name')['reading_score'].mean()\n",
    "#Add passing math column \n",
    "#count if passing\n",
    "#Schools_df['Passing Math'] = PyCitySchools_passing_df.groupby('school_name')['Passing Math'].count()\n",
    "#Add passing reading column \n",
    "#count if passing\n",
    "#Schools_df['Passing Reading'] = PyCitySchools_passing_df.groupby('school_name')['Passing Reading'].count()"
   ]
  },
  {
   "cell_type": "code",
   "execution_count": null,
   "metadata": {},
   "outputs": [],
   "source": [
    "PyCitySchools_df.head()\n",
    "#caculate average math score by school \n",
    "Schools_df['Average Math Score'] = PyCitySchools_df.groupby('school_name')['math_score'].mean()\n",
    "#calculate average reading score by school \n",
    "Schools_df['Average Reading Score'] = PyCitySchools_df.groupby('school_name')['reading_score'].mean()"
   ]
  },
  {
   "cell_type": "code",
   "execution_count": null,
   "metadata": {},
   "outputs": [],
   "source": [
    "#Percent passing math \n",
    "#PyCitySchools_df[['school_name','math_score']]\n",
    "#PyCitySchools_df['school_name']=='Huang High School'\n",
    "#PyCitySchools_df[PyCitySchools_df['school_name']=='Huang High School']['math_score']>=70\n",
    "#PyCitySchools_df[PyCitySchools_df[PyCitySchools_df['school_name']=='Huang High School']['math_score']>=70]\n",
    "#passing_both = School_District_df[(School_District_df.math_score>=70)&(School_District_df.reading_score>=70)].count()['student_name']\n",
    "#p_passing_both = round(((passing_both/school_students)*100),6)\n",
    "#p_passing_both\n",
    "#passing_math = School_District_df[School_District_df[\"math_score\"]>=70].count()['student_name']"
   ]
  },
  {
   "cell_type": "code",
   "execution_count": null,
   "metadata": {},
   "outputs": [],
   "source": [
    "#To determine the % of studens passing math per school, start by creating passing / failing columns for math, reading and both in the original dataframe\n",
    "#PyCitySchools_df['% passing math'] = np.where( (PyCitySchools_df['math_score'] >= 70), 'Passing' , 'Failing')\n",
    "#PyCitySchools_df\n",
    "#PyCitySchools_df['% passing reading'] = np.where((PyCitySchools_df['reading_score']>=70), 'Passing','Failing')\n",
    "#PyCitySchools_df['% passing both']= np.where((PyCitySchools_df[['% passing math'&'% passing reading']]=='Passing'), 'Passing','Failing')\n",
    "students_passing_both_df = PyCitySchools_df.loc[(PyCitySchools_df['% passing math']=='Passing')&(PyCitySchools_df['% passing reading']=='Passing'),['school_name','student_name']]\n",
    "\n",
    "\n",
    "\n",
    "\n"
   ]
  },
  {
   "cell_type": "code",
   "execution_count": null,
   "metadata": {},
   "outputs": [],
   "source": [
    "#Create a new table drops all duplicates for school name but keps the first instance\n",
    "Schools_df = Schools_df.drop_duplicates(subset='School ID', keep=\"first\")\n",
    "Schools_df['% Passing Math'] = (Schools_df['% Passing Math'].eq('Passing').sum())/ Schools_df['size']\n",
    "Schools_df\n"
   ]
  },
  {
   "cell_type": "code",
   "execution_count": null,
   "metadata": {},
   "outputs": [],
   "source": [
    "#create caclulations for schools_df\n",
    "#create a new dataset that calculates 'Per Student budget for each school'\n",
    "per_student_budget = {'Per Student Budget':[]}\n",
    "#append values to a list:  (school[0]['budget']) / (school[0]['size'])\n",
    "psb_list = []\n",
    "#for i, in Schools_df[['School ID']][i]:\n",
    "#None of [Index(['Per Student Budget'], dtype='object')] are in the [columns]\n",
    "psb_total_budget = Schools_df.groupby('School ID')['budget'].mean()\n",
    "psb_total_student = Schools_df.groupby('School ID')['size'].mean()\n",
    "psb_list = (psb_total_budget / psb_total_student)\n",
    "Schools_df['Per Student Budget']= Schools_df[['Per Student Budget']].append(psb_list)\n",
    "    \n",
    "\n",
    "    \n",
    "    \n",
    "    \n",
    "#total_budget = School_District_df.groupby('school_name')['budget'].mean()\n",
    "#total_budget = total_budget.sum()\n",
    "#total_budget = '${:,.2f}'.format(total_budget)\n",
    "#total_budget"
   ]
  },
  {
   "cell_type": "code",
   "execution_count": null,
   "metadata": {},
   "outputs": [],
   "source": [
    "\n",
    "\n",
    "\n",
    "\n",
    "\n",
    "\n",
    "\n",
    "\n",
    "\n",
    "\n",
    "\n",
    "\n",
    "\n",
    "\n",
    "\n",
    "\n",
    "\n",
    "\n",
    "#reference code: air_quality[\"london_mg_per_cubic\"] = air_quality[\"station_london\"] * 1.882\n",
    "#Create dictonary for new column\n",
    "#per_student_budget = {'Per Student Budget':[]}\n",
    "#define name of new column and run caculation \n",
    "#Schools_df['Per Student Budget'] = Schools_df['budget'] /  Schools_df['size']\n",
    "#check new column\n",
    "#Schools_df\n",
    "\n",
    "\n",
    "\n",
    "\n",
    "\n",
    "#create caclulations for schools_df\n",
    "#create a new dataset that calculates 'Per Student budget for each school'\n",
    "per_student_budget = {'Per Student Budget':[]}\n",
    "#append values to a list:  (school[0]['budget']) / (school[0]['size'])\n",
    "psb_list = []\n",
    "#for i, in Schools_df[['School ID']][i]:\n",
    "#None of [Index(['Per Student Budget'], dtype='object')] are in the [columns]\n",
    "psb_total_budget = Schools_df.groupby('School ID')['budget'].mean()\n",
    "psb_total_student = Schools_df.groupby('School ID')['size'].mean()\n",
    "psb_list = (psb_total_budget / psb_total_student)\n",
    "Schools_df['Per Student Budget']= Schools_df[['Per Student Budget']].append(psb_list)\n",
    "    \n",
    "\n",
    "    \n",
    "    \n",
    "    \n",
    "#total_budget = School_District_df.groupby('school_name')['budget'].mean()\n",
    "#total_budget = total_budget.sum()\n",
    "#total_budget = '${:,.2f}'.format(total_budget)\n",
    "#total_budget"
   ]
  },
  {
   "cell_type": "code",
   "execution_count": null,
   "metadata": {},
   "outputs": [],
   "source": [
    "#create a school_names variable that stores a list of unique school names\n",
    "PyCitySchools_2 = PyCitySchools_df.drop_duplicates(subset='school_name',keep=\"first\")\n",
    "#PyCitySchools_2.set_index('school_name')\n",
    "school_types = PyCitySchools_2['type']\n",
    "school_size = PyCitySchools_2['size']\n",
    "school_budget = PyCitySchools_2['budget']\n",
    "per_student_budget = school_budget/school_size\n",
    "school_avg_math = PyCitySchools_df.groupby('school_name')['math_score'].mean()\n",
    "school_reading_avg = PyCitySchools_df.groupby('school_name').mean()['reading_score']\n",
    "#p_passing_math = count_passing_math/school_size"
   ]
  },
  {
   "cell_type": "code",
   "execution_count": null,
   "metadata": {},
   "outputs": [],
   "source": [
    "summary_2 = {'School Type':school_type,\n",
    "             'Total Students Budget':school_budget,\n",
    "             'Per Student Budget': school_budget,\n",
    "             'Averge Math Score':school_avg_math, \n",
    "             'Average Reading Score':school_reading_avg,\n",
    "             '% Passing Math':[p_passing_math],\n",
    "             '% Passing Reading':[p_passing_reading]}\n",
    "\n",
    "#make all values and headers flush left\n",
    "summary_2 = pd.DataFrame(summary_2)\n",
    "summary_2.align\n",
    "summary_2"
   ]
  },
  {
   "cell_type": "code",
   "execution_count": null,
   "metadata": {},
   "outputs": [],
   "source": [
    "#Table 02 top preforming schools\n",
    "\n",
    "#step 01 create all the variables for the table \n",
    "top_schools = PyCitySchools_df.set_index('school_name')\n",
    "school_namesss = PyCitySchools_df['school_name'].unique()\n",
    "school_typesss = top_schools['type'].str.upper()\n",
    "school_studentsss = top_schools['size']\n",
    "school_budgetsss = top_schools['budget']\n",
    "avg_mathsss = top_schools.groupby('school_name')['math_score'].mean()\n",
    "avg_readingsss = top_schools.groupby('school_name')['reading_score'].mean()\n",
    "passing_math = top_schools[top_schools[\"math_score\"]>= 70]\n",
    "per_passing_mcount = passing_math.groupby('school_name').count()\n",
    "per_passing_math = per_passing_mcount/school_studentsss\n",
    "passing_reading = top_schools[top_schools['reading_score']>= 70]\n",
    "per_passing_rcount = passing_reading.groupby('school_name').count()\n",
    "per_passing_reading = per_passing_rcount/school_studentsss\n",
    "\n",
    "#step 02 create a dataframe that turn each variable into a column \n",
    "top_schools\n",
    "\n",
    "summary_3 = {'School Name':school_namesss,\n",
    "             'School Type':school_typesss,\n",
    "             'Total Students': school_studentsss,\n",
    "             'Total School Budget':school_budgetsss, \n",
    "             'Average Math Score': avg_mathsss,\n",
    "             'Average Reading Score':avg_readingsss,\n",
    "             '% Passing Reading':per_passing_math}\n",
    "\n",
    "#make all values and headers flush left\n",
    "summary_3 = pd.DataFrame(summary_2)\n",
    "summary_3.align\n",
    "summary_3"
   ]
  },
  {
   "cell_type": "code",
   "execution_count": null,
   "metadata": {},
   "outputs": [],
   "source": []
  },
  {
   "cell_type": "code",
   "execution_count": null,
   "metadata": {},
   "outputs": [],
   "source": []
  }
 ],
 "metadata": {
  "kernelspec": {
   "display_name": "Python 3",
   "language": "python",
   "name": "python3"
  },
  "language_info": {
   "codemirror_mode": {
    "name": "ipython",
    "version": 3
   },
   "file_extension": ".py",
   "mimetype": "text/x-python",
   "name": "python",
   "nbconvert_exporter": "python",
   "pygments_lexer": "ipython3",
   "version": "3.7.6"
  }
 },
 "nbformat": 4,
 "nbformat_minor": 4
}
